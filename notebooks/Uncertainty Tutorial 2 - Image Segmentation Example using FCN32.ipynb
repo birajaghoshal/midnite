{
 "cells": [
  {
   "cell_type": "markdown",
   "metadata": {},
   "source": [
    "# Interpretability-framework - Uncertainty Tutorial 2\n",
    "in this notebook you will learn how to use the interpretability framework in an image segmentation example and how to interpret the results."
   ]
  },
  {
   "cell_type": "markdown",
   "metadata": {},
   "source": [
    "## Segmentation example with FCN32s\n",
    "Demonstration of uncertainty measurement and visualization in an segmentation example."
   ]
  },
  {
   "cell_type": "code",
   "execution_count": 2,
   "metadata": {},
   "outputs": [],
   "source": [
    "import torch\n",
    "from torch.nn import Sequential\n",
    "from torch.nn import Softmax\n",
    "\n",
    "from interpretability_framework import modules\n",
    "from pytorch_fcn.fcn32s import FCN32s\n",
    "\n",
    "import data_utils\n",
    "from data_utils import DataConfig\n",
    "import matplotlib.pyplot as plt"
   ]
  },
  {
   "cell_type": "markdown",
   "metadata": {},
   "source": [
    "### Step 1:\n",
    "Load a pre-trained segmentation model, which should be evaluated. \n",
    "\n",
    "**Note: Monte Carlo Dropout ensembles only achieve proper results when used on a net which was trained with dropout. So check if the model you would like to use has dropout layers active in training.**\n",
    "\n",
    "We use a pre-trained FCN32 model for demonstration."
   ]
  },
  {
   "cell_type": "code",
   "execution_count": 3,
   "metadata": {},
   "outputs": [
    {
     "name": "stdout",
     "output_type": "stream",
     "text": [
      "[/home/christina/data/models/pytorch/fcn32s_from_caffe.pth] Checking md5 (8acf386d722dc3484625964cbe2aba49)\n"
     ]
    }
   ],
   "source": [
    "fully_conf_net = FCN32s()\n",
    "fully_conf_net.load_state_dict(torch.load(FCN32s.download()))"
   ]
  },
  {
   "cell_type": "markdown",
   "metadata": {},
   "source": [
    "### Step 2:\n",
    "Wrap your net with an PredictionEnsemble layer. This layer collects an ensemble of predictions with Monte Carlo dropout. This ensemble will be used for measuring uncertainties.\n",
    "\n",
    "Build and prepare the ensemble."
   ]
  },
  {
   "cell_type": "code",
   "execution_count": 4,
   "metadata": {},
   "outputs": [
    {
     "data": {
      "text/plain": [
       "Sequential(\n",
       "  (0): MeanEnsemble(\n",
       "    (inner): FCN32s(\n",
       "      (conv1_1): Conv2d(3, 64, kernel_size=(3, 3), stride=(1, 1), padding=(100, 100))\n",
       "      (relu1_1): ReLU(inplace)\n",
       "      (conv1_2): Conv2d(64, 64, kernel_size=(3, 3), stride=(1, 1), padding=(1, 1))\n",
       "      (relu1_2): ReLU(inplace)\n",
       "      (pool1): MaxPool2d(kernel_size=2, stride=2, padding=0, dilation=1, ceil_mode=True)\n",
       "      (conv2_1): Conv2d(64, 128, kernel_size=(3, 3), stride=(1, 1), padding=(1, 1))\n",
       "      (relu2_1): ReLU(inplace)\n",
       "      (conv2_2): Conv2d(128, 128, kernel_size=(3, 3), stride=(1, 1), padding=(1, 1))\n",
       "      (relu2_2): ReLU(inplace)\n",
       "      (pool2): MaxPool2d(kernel_size=2, stride=2, padding=0, dilation=1, ceil_mode=True)\n",
       "      (conv3_1): Conv2d(128, 256, kernel_size=(3, 3), stride=(1, 1), padding=(1, 1))\n",
       "      (relu3_1): ReLU(inplace)\n",
       "      (conv3_2): Conv2d(256, 256, kernel_size=(3, 3), stride=(1, 1), padding=(1, 1))\n",
       "      (relu3_2): ReLU(inplace)\n",
       "      (conv3_3): Conv2d(256, 256, kernel_size=(3, 3), stride=(1, 1), padding=(1, 1))\n",
       "      (relu3_3): ReLU(inplace)\n",
       "      (pool3): MaxPool2d(kernel_size=2, stride=2, padding=0, dilation=1, ceil_mode=True)\n",
       "      (conv4_1): Conv2d(256, 512, kernel_size=(3, 3), stride=(1, 1), padding=(1, 1))\n",
       "      (relu4_1): ReLU(inplace)\n",
       "      (conv4_2): Conv2d(512, 512, kernel_size=(3, 3), stride=(1, 1), padding=(1, 1))\n",
       "      (relu4_2): ReLU(inplace)\n",
       "      (conv4_3): Conv2d(512, 512, kernel_size=(3, 3), stride=(1, 1), padding=(1, 1))\n",
       "      (relu4_3): ReLU(inplace)\n",
       "      (pool4): MaxPool2d(kernel_size=2, stride=2, padding=0, dilation=1, ceil_mode=True)\n",
       "      (conv5_1): Conv2d(512, 512, kernel_size=(3, 3), stride=(1, 1), padding=(1, 1))\n",
       "      (relu5_1): ReLU(inplace)\n",
       "      (conv5_2): Conv2d(512, 512, kernel_size=(3, 3), stride=(1, 1), padding=(1, 1))\n",
       "      (relu5_2): ReLU(inplace)\n",
       "      (conv5_3): Conv2d(512, 512, kernel_size=(3, 3), stride=(1, 1), padding=(1, 1))\n",
       "      (relu5_3): ReLU(inplace)\n",
       "      (pool5): MaxPool2d(kernel_size=2, stride=2, padding=0, dilation=1, ceil_mode=True)\n",
       "      (fc6): Conv2d(512, 4096, kernel_size=(7, 7), stride=(1, 1))\n",
       "      (relu6): ReLU(inplace)\n",
       "      (drop6): Dropout2d(p=0.5)\n",
       "      (fc7): Conv2d(4096, 4096, kernel_size=(1, 1), stride=(1, 1))\n",
       "      (relu7): ReLU(inplace)\n",
       "      (drop7): Dropout2d(p=0.5)\n",
       "      (score_fr): Conv2d(4096, 21, kernel_size=(1, 1), stride=(1, 1))\n",
       "      (upscore): ConvTranspose2d(21, 21, kernel_size=(64, 64), stride=(32, 32), bias=False)\n",
       "    )\n",
       "  )\n",
       "  (1): Softmax()\n",
       ")"
      ]
     },
     "execution_count": 4,
     "metadata": {},
     "output_type": "execute_result"
    }
   ],
   "source": [
    "ensemble = Sequential(\n",
    "    modules.MeanEnsemble(fully_conf_net, 20),\n",
    "    Softmax(dim=1)\n",
    ")\n",
    "\n",
    "ensemble.eval()"
   ]
  },
  {
   "cell_type": "markdown",
   "metadata": {},
   "source": [
    "### Step 3:\n",
    "\n",
    "Load and show the image, which should be evaluated."
   ]
  },
  {
   "cell_type": "code",
   "execution_count": 5,
   "metadata": {},
   "outputs": [
    {
     "name": "stderr",
     "output_type": "stream",
     "text": [
      "Clipping input data to the valid range for imshow with RGB data ([0..1] for floats or [0..255] for integers).\n"
     ]
    },
    {
     "data": {
      "image/png": "[encoded data removed]",
      "text/plain": [
       "<Figure size 432x288 with 1 Axes>"
      ]
     },
     "metadata": {
      "needs_background": "light"
     },
     "output_type": "display_data"
    }
   ],
   "source": [
    "img = data_utils.get_example_from_path(\"../data/fcn_example.jpg\", DataConfig.FCN32)\n",
    "    \n",
    "plt.imshow(img.squeeze(dim=0).permute(1, 2, 0))\n",
    "plt.show()"
   ]
  },
  {
   "cell_type": "markdown",
   "metadata": {},
   "source": [
    "### Step 4: \n",
    "Calculate a segmentation prediction with the MC Dropout Ensemble.\n",
    "\n",
    "**Attention! The next cell contains high dimensional computations. We recommend running it with a GPU device.**\n"
   ]
  },
  {
   "cell_type": "code",
   "execution_count": null,
   "metadata": {},
   "outputs": [],
   "source": [
    "pred = ensemble(img)\n",
    "plt.imshow(pred.argmax(dim=1).squeeze(dim=0).detach().numpy())\n",
    "plt.show()\n",
    "\n",
    "#TODO: plot uncertainties\n",
    "# calculate data uncertainty"
   ]
  },
  {
   "cell_type": "markdown",
   "metadata": {},
   "source": [
    "## Interpretation of results\n",
    "\n",
    "In contrast to the image classification example, we calculate predictions and uncertainties for each pixel of the image. \n",
    "Hence, we can visualize the pixel uncertainties as an image and add a color scheme to make interpretations easier (red = high uncertainty, blue = low uncertainty).\n",
    "\n",
    "What can we see in these uncertainty images?\n",
    "\n",
    "* **Total predictive entropy:** the total predictive uncertainty of each pixel, we can detect which pixels have high uncertainty and therefore, are predicted with low confidence.\n",
    "* **Mutual Information:** the model uncertainty of each pixel, we can detect which pixels are predicted with low confidence due to the model.\n",
    "* **Data Uncertainty:** we can detect which pixels are predicted with low confidence due to the quality of the data (image).\n",
    "\n"
   ]
  }
 ],
 "metadata": {
  "kernelspec": {
   "display_name": "Python 3",
   "language": "python",
   "name": "python3"
  },
  "language_info": {
   "codemirror_mode": {
    "name": "ipython",
    "version": 3
   },
   "file_extension": ".py",
   "mimetype": "text/x-python",
   "name": "python",
   "nbconvert_exporter": "python",
   "pygments_lexer": "ipython3",
   "version": "3.7.0"
  }
 },
 "nbformat": 4,
 "nbformat_minor": 2
}
