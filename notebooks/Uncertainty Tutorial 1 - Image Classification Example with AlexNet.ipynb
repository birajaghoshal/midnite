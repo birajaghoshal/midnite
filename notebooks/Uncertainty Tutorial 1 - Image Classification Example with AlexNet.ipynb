{
 "cells": [
  {
   "cell_type": "markdown",
   "metadata": {},
   "source": [
    "# Interpretability-framework - Uncertainty Tutorial 1\n",
    "\n",
    "in this notebook you will learn the intuition behind the features of the interpretability framework and how to us them."
   ]
  },
  {
   "cell_type": "markdown",
   "metadata": {},
   "source": [
    "## Classification Example with AlexNet\n",
    "\n",
    "Demonstration of an uncertainty measurement of an image classification example."
   ]
  },
  {
   "cell_type": "code",
   "execution_count": 1,
   "metadata": {},
   "outputs": [],
   "source": [
    "import torchvision.models as models\n",
    "from torch.nn import Dropout\n",
    "from torch.nn import Softmax\n",
    "from torch.nn import Sequential\n",
    "\n",
    "import data_utils\n",
    "from data_utils import DataConfig\n",
    "from interpretability_framework import modules"
   ]
  },
  {
   "cell_type": "markdown",
   "metadata": {},
   "source": [
    "### Step 1:\n",
    "\n",
    "Load the model, which should be evaluated.\n",
    "\n",
    "**Note: Monte Carlo Dropout ensembles only achieve proper results when used on a net which was trained with dropout. So check if the model you would like to use has dropout layers active in training.**\n",
    "\n",
    "In our example we use a pretrained AlexNet for demonstration."
   ]
  },
  {
   "cell_type": "code",
   "execution_count": 2,
   "metadata": {},
   "outputs": [],
   "source": [
    "alexnet = models.alexnet(pretrained=True)\n",
    "alexnet.classifier.add_module(\"softmax\", Softmax(dim=1))"
   ]
  },
  {
   "cell_type": "markdown",
   "metadata": {},
   "source": [
    "### Step 2:\n",
    "\n",
    "Wrap your net with an PredictionEnsemble layer. This layer collects an ensemble of predictions with Monte Carlo dropout. This ensemble will be used for measuring uncertainties. "
   ]
  },
  {
   "cell_type": "code",
   "execution_count": 3,
   "metadata": {},
   "outputs": [],
   "source": [
    "ensemble = Sequential(\n",
    "        modules.PredictionEnsemble(inner=alexnet), modules.ConfidenceMeanPrediction()\n",
    "    )"
   ]
  },
  {
   "cell_type": "markdown",
   "metadata": {},
   "source": [
    "### Step 3:\n",
    "\n",
    "Prepare the ensemble layer by entering evaluation mode, to specify, that we are in test mode."
   ]
  },
  {
   "cell_type": "code",
   "execution_count": null,
   "metadata": {},
   "outputs": [],
   "source": [
    "ensemble.eval()"
   ]
  },
  {
   "cell_type": "markdown",
   "metadata": {},
   "source": [
    "### Step 4: \n",
    "\n",
    "You can evaluate the predictive uncertainties by loading an image from a path or a batch of a dataset.\n",
    "data.utils transforms the images, as AlexNet needs examples with dimensions ( 1 x 3 x 227 x 227 ).\n",
    "\n",
    "\n",
    "**Option 1: use batch data** \n",
    "\n",
    "We can retrieve a batch of data from a dataset by using the pytorch dataloader implemented in data.utils.py.\n",
    "Let's specify a batch size of 5 examples."
   ]
  },
  {
   "cell_type": "code",
   "execution_count": null,
   "metadata": {},
   "outputs": [],
   "source": [
    "# download dataset first!\n",
    "# batch = load_imagenet_dataset(\"../data/imagenet\")"
   ]
  },
  {
   "cell_type": "markdown",
   "metadata": {},
   "source": [
    "**Option 2: use image from path**\n",
    "\n",
    "Load an image example, for which the uncertainties should be calculated.\n",
    "\n",
    "*In order to interpret the results, we want to compare the uncertainties of an in-distribution and an out-of-distribution example.* \n",
    "As AlexNet was trained with ImageNet data, we pick an ImageNet example as an in-distribution target, for which predictions should be very confident. An out-of-distribution target is an image, which depicts something, which is not a class label of ImageNet. We use Cholitas for this example."
   ]
  },
  {
   "cell_type": "code",
   "execution_count": null,
   "metadata": {},
   "outputs": [],
   "source": [
    "id_example = data_utils.get_example_from_path(\"../data/imagenet_example_283.jpg\", DataConfig.ALEX_NET)\n",
    "ood_example = data_utils.get_example_from_path(\"../data/ood_example.jpg\", DataConfig.ALEX_NET)"
   ]
  },
  {
   "cell_type": "markdown",
   "metadata": {},
   "source": [
    "**Option 3: generate a random example**\n",
    "\n",
    "Retrieve a random example normalized with the distribution mean and standard deviation, which can also be seen as an out-of-distribution sample.\n"
   ]
  },
  {
   "cell_type": "code",
   "execution_count": null,
   "metadata": {},
   "outputs": [],
   "source": [
    "random_example = data_utils.get_random_example(DataConfig.ALEX_NET)"
   ]
  },
  {
   "cell_type": "markdown",
   "metadata": {},
   "source": [
    "### Step 6: \n",
    "Calculate uncertainties."
   ]
  },
  {
   "cell_type": "code",
   "execution_count": null,
   "metadata": {},
   "outputs": [],
   "source": [
    "pred, pred_entropy, mutual_info = ensemble(id_example)\n",
    "\n",
    "print(\"Uncertainties of in-distribution example\")\n",
    "print(f\"    mean prediction: {pred.argmax()}, class probability: {pred.max()}\")\n",
    "print(f\"    total predictive entropy: {pred_entropy.sum()}\")\n",
    "print(f\"    total mutual information: {mutual_info.sum()}\")"
   ]
  },
  {
   "cell_type": "code",
   "execution_count": null,
   "metadata": {},
   "outputs": [],
   "source": [
    "pred, pred_entropy, mutual_info = ensemble(ood_example)\n",
    "\n",
    "print(\"Uncertainties of out-of-distribution example\")\n",
    "print(f\"    mean prediction: {pred.argmax()}, class probability: {pred.max()}\")\n",
    "print(f\"    total predictive entropy: {pred_entropy.sum()}\")\n",
    "print(f\"    total mutual information: {mutual_info.sum()}\")"
   ]
  },
  {
   "cell_type": "code",
   "execution_count": null,
   "metadata": {},
   "outputs": [],
   "source": [
    "pred, pred_entropy, mutual_info = ensemble(random_example)\n",
    "\n",
    "print(\"Uncertainties of the random example\")\n",
    "print(f\"    mean prediction: {pred.argmax()}, class probability: {pred.max()}\")\n",
    "print(f\"    total predictive entropy: {pred_entropy.sum()}\")\n",
    "print(f\"    total mutual information: {mutual_info.sum()}\")"
   ]
  },
  {
   "cell_type": "markdown",
   "metadata": {},
   "source": [
    "## Interpretation of results\n",
    "\n",
    "We should see that in-distribution examples have a class probability close to 1 and a low uncertainties. Which means, we are predicting with high confidence.\n",
    "\n",
    "In the OOD and random sample we see that the prediction can be different everytime the ensemble is executed. This is due to the stochasticity of the MC dropout. \n",
    "\n",
    "Still, we can observe that the uncertainty is constantly very high, so we predict with low confidence. Whereas, the total predictive entropy (total uncertainty) is high for both, OOD and random example, we see that the mutual information is significantly different. High mutual information idicates that the total uncertainty is mainly due to model uncertainty. Whereas when the mutual information is low, it is an indicator that the total uncertainty is due to data uncertainty.\n",
    "\n"
   ]
  }
 ],
 "metadata": {
  "kernelspec": {
   "display_name": "Python 3",
   "language": "python",
   "name": "python3"
  },
  "language_info": {
   "codemirror_mode": {
    "name": "ipython",
    "version": 3
   },
   "file_extension": ".py",
   "mimetype": "text/x-python",
   "name": "python",
   "nbconvert_exporter": "python",
   "pygments_lexer": "ipython3",
   "version": "3.7.0"
  }
 },
 "nbformat": 4,
 "nbformat_minor": 2
}
